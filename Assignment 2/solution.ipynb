{
 "cells": [
  {
   "cell_type": "code",
   "execution_count": 202,
   "metadata": {},
   "outputs": [],
   "source": [
    "# setup for doing assignment questions\n",
    "\n",
    "import random\n",
    "import math\n",
    "import numpy as np\n",
    "\n",
    "random.seed()\n",
    "\n",
    "PARTICLE_RADIUS = 1.0 / 2.0     # radius of each particle that is inserted\n",
    "BOX_DIMENSIONS = (11.0, 11.0)   # dimensions of the system to place the particles\n",
    "MAX_ATTEMPTS = 1000             # maximum number of attempts to randomly place a particle\n",
    "\n",
    "BOX_AREA = BOX_DIMENSIONS[0] * BOX_DIMENSIONS[1]\n",
    "PARTICLE_AREA = 2 * np.pi * PARTICLE_RADIUS\n",
    "\n",
    "def check_overlap(check_particle, particle_list):\n",
    "    cx, cy = check_particle\n",
    "    \n",
    "    for x, y in particle_list:\n",
    "        dx = cx - x\n",
    "        dy = cy - y\n",
    "        \n",
    "        if dx * dx + dy * dy < 4 * PARTICLE_RADIUS * PARTICLE_RADIUS:\n",
    "            return True\n",
    "    \n",
    "    return False\n",
    "\n",
    "# randomly inserts a particle inside the box\n",
    "def insert_particle(particle_list, x=None, y=None):\n",
    "    x0 = PARTICLE_RADIUS\n",
    "    y0 = x0\n",
    "    x1 = BOX_DIMENSIONS[0] - x0\n",
    "    y1 = BOX_DIMENSIONS[1] - y0\n",
    "\n",
    "    # if coordinates were provided, check if it can be placed there\n",
    "    if x is not None and y is not None:\n",
    "        particle = (x, y)\n",
    "        \n",
    "        # if the given particle position is outside the box or overlaps\n",
    "        # the walls, then attempts will be set to 1\n",
    "        if x >= x0 and x <= x1 and y >= y0 and y <= y1:\n",
    "            attempts = 1 if check_overlap(particle, particle_list) else 0\n",
    "        else:\n",
    "            attempts = 1\n",
    "        inserted = (attempts == 0)\n",
    "    \n",
    "    # if coordinates were not provided, find a random position\n",
    "    else:\n",
    "        inserted = False\n",
    "        attempts = -1\n",
    "        \n",
    "        while not inserted and attempts <= MAX_ATTEMPTS:\n",
    "            attempts += 1\n",
    "            particle = (random.uniform(x0, x1), random.uniform(y0, y1))\n",
    "            inserted = not check_overlap(particle, particle_list)\n",
    "    \n",
    "    # if the particle was inserted, then add it tot he list     \n",
    "    if inserted:\n",
    "        particle_list.append(particle)\n",
    "    \n",
    "    # returns the number of times it attempted to place the parcticle\n",
    "    # if coordinates were provided, and placement was successful, the number\n",
    "    # of attempts will be 0. Otherwise, random attempts will try up to MAX_ATTEMPTS\n",
    "    # times.\n",
    "    return attempts\n",
    "\n"
   ]
  },
  {
   "cell_type": "code",
   "execution_count": 216,
   "metadata": {},
   "outputs": [
    {
     "name": "stdout",
     "output_type": "stream",
     "text": [
      "Maximum particles: 79\n",
      "Maximum particle density: 2.0511224763106917\n"
     ]
    },
    {
     "data": {
      "text/plain": [
       "Text(0.5, 1.0, 'Number of attempts to insert additional particles')"
      ]
     },
     "execution_count": 216,
     "metadata": {},
     "output_type": "execute_result"
    },
    {
     "data": {
      "image/png": "[encoded data removed]",
      "text/plain": [
       "<Figure size 432x288 with 1 Axes>"
      ]
     },
     "metadata": {
      "needs_background": "light"
     },
     "output_type": "display_data"
    }
   ],
   "source": [
    "# question 1 part a)\n",
    "\n",
    "import matplotlib.pyplot as plt\n",
    "\n",
    "def fill_box(desired_density=0):\n",
    "    particle_list = []\n",
    "    attempt_list = []\n",
    "    inserted = True\n",
    "    \n",
    "    density = 0\n",
    "    \n",
    "    # keep inserting particles until no more positions can be\n",
    "    # found after MAX_ATTEMPTS number of attempts\n",
    "    while inserted and ((density < desired_density) if desired_density > 0 else True):\n",
    "        attempts = insert_particle(particle_list)\n",
    "        attempt_list.append(attempts + 1)\n",
    "        inserted = (attempts <= MAX_ATTEMPTS)\n",
    "        density += PARTICLE_AREA / BOX_AREA if inserted else 0\n",
    "        \n",
    "    return attempt_list, density\n",
    "\n",
    "# question 1\n",
    "\n",
    "avg_attempt_list = []\n",
    "N = 100\n",
    "\n",
    "for n in range(0, N):\n",
    "    attempt_list, density = fill_box()\n",
    "    if n == 0:\n",
    "        avg_attempt_list = attempt_list\n",
    "    else:\n",
    "        dlen = len(attempt_list) - len(avg_attempt_list)\n",
    "        avg_attempt_list += [MAX_ATTEMPTS + 1] * max(0, dlen)\n",
    "        attempt_list += [MAX_ATTEMPTS + 1] * max(0, -dlen)\n",
    "        for i in range(0, len(avg_attempt_list)):\n",
    "            avg_attempt_list[i] += attempt_list[i]\n",
    "            \n",
    "\n",
    "for i in range(0, len(avg_attempt_list)):\n",
    "    avg_attempt_list[i] /= N\n",
    "        \n",
    "max_particles = len(avg_attempt_list)\n",
    "\n",
    "print(\"Maximum particles: {}\".format(max_particles))\n",
    "print(\"Maximum particle density: {}\".format(max_particles * PARTICLE_AREA / BOX_AREA))\n",
    "\n",
    "plt.plot(avg_attempt_list, 'ro')\n",
    "plt.xlabel(\"Particle number\")\n",
    "plt.ylabel(\"Number of attempts\")\n",
    "plt.yscale(\"log\")\n",
    "plt.title(\"Number of attempts to insert additional particles\")\n",
    "    "
   ]
  },
  {
   "attachments": {},
   "cell_type": "markdown",
   "metadata": {},
   "source": [
    "The graph above plots the average number of attempts to insert the \n",
    "each additional particle. At larger numbers of particles, more attempts\n",
    "are required. Towards the upper end, the displayed average is \n",
    "less accurate since fewere realizations can achieve that many \n",
    "particles. \n",
    "\n",
    "To get the data, the insertion experiment is repeated 100 times,\n",
    "and during each experiment, an\n",
    "attempt is made to insert the particle at a random point. If the\n",
    "point causes overlaps with another particle, then the insertion fails.\n",
    "Failure can occur 1000 times--which is set as a \"reasonable\" limit for\n",
    "assuming no more particles can be placed--before the experiment ends.\n",
    "\n",
    "Across different tests, it was found a maximum 80 particles could be\n",
    "placed, corresponding to a particle density of 2.771. \n",
    "Theoretically with perfect placement, 121 particles \n",
    "could be placed."
   ]
  },
  {
   "cell_type": "code",
   "execution_count": 230,
   "metadata": {},
   "outputs": [
    {
     "data": {
      "text/plain": [
       "Text(0.5, 1.0, 'Number of attempts to insert additional particles')"
      ]
     },
     "execution_count": 230,
     "metadata": {},
     "output_type": "execute_result"
    },
    {
     "data": {
      "image/png": "[encoded data removed]",
      "text/plain": [
       "<Figure size 432x288 with 1 Axes>"
      ]
     },
     "metadata": {
      "needs_background": "light"
     },
     "output_type": "display_data"
    }
   ],
   "source": [
    "# question 1 part b)\n",
    "\n",
    "import time\n",
    "\n",
    "N = 10\n",
    "data_points = 20\n",
    "min_density = 0.1\n",
    "max_density = 1.75\n",
    "density_delta = (max_density - min_density) / (data_points - 1)\n",
    "\n",
    "xs = []\n",
    "ys = []\n",
    "yerr = []\n",
    "\n",
    "desired_density = min_density\n",
    "for i in range (0, data_points):\n",
    "    achieved_density = []\n",
    "    elapsed_time = []\n",
    "    \n",
    "    for n in range(0, N):\n",
    "        start = time.time()\n",
    "        attempt_list, density = fill_box(desired_density)\n",
    "        end = time.time() - start\n",
    "        achieved_density.append(density)\n",
    "        elapsed_time.append(end)\n",
    "        \n",
    "    x_value = sum(achieved_density) / N\n",
    "    y_value = sum(elapsed_time) / N\n",
    "    yerr_value = math.sqrt(sum((y - y_value)**2 for y in elapsed_time)) / N\n",
    "    \n",
    "    desired_density += density_delta\n",
    "    xs.append(x_value)\n",
    "    ys.append(y_value)\n",
    "    yerr.append(yerr_value)\n",
    "        \n",
    "\n",
    "fig, ax = plt.subplots()\n",
    "ax.errorbar(xs, ys, fmt='r.', yerr=yerr)\n",
    "ax.set_xlabel(\"Particle density\")\n",
    "ax.set_ylabel(\"Elapsed time\")\n",
    "ax.set_title(\"Number of attempts to insert additional particles\")\n",
    "            "
   ]
  },
  {
   "attachments": {},
   "cell_type": "markdown",
   "metadata": {},
   "source": [
    "For each number density placement, the error bars were calculated for the time. They were generated by computing the \"standard error\" of the time measurements:\n",
    "$$\\frac{1}{N}\\sqrt{\\sum_i ({t_i - \\hat{t}})^2}$$\n",
    "where $\\hat{t}$ is the average time it took to place the particles, $t_i$ is the $i$th time measurement, and $N$ is the number of measurements. In this case, $N=10$."
   ]
  },
  {
   "cell_type": "code",
   "execution_count": 170,
   "metadata": {},
   "outputs": [
    {
     "data": {
      "image/png": "[encoded data removed]",
      "text/plain": [
       "<Figure size 432x288 with 1 Axes>"
      ]
     },
     "metadata": {
      "needs_background": "light"
     },
     "output_type": "display_data"
    }
   ],
   "source": [
    "# question 2, generating a hexagonal lattice\n",
    "\n",
    "ROWS = 5 # number of rows of the lattice\n",
    "LATTICE_SEP = (BOX_DIMENSIONS[0] / ROWS) / 2.\n",
    "FIRST_POS = LATTICE_SEP / 2.\n",
    "EPS = 1e-2\n",
    "\n",
    "particle_list = []\n",
    "inserted = True\n",
    "\n",
    "x = FIRST_POS\n",
    "y = FIRST_POS\n",
    "while inserted:\n",
    "    inserted = True if insert_particle(particle_list, x, y) == 0 else False\n",
    "    \n",
    "    x += LATTICE_SEP\n",
    "    y += int((x + EPS) / BOX_DIMENSIONS[0]) * LATTICE_SEP\n",
    "    x -= int((x + EPS) / BOX_DIMENSIONS[0]) * (BOX_DIMENSIONS[0] - FIRST_POS)\n",
    "\n",
    "if not particle_list:\n",
    "    print(\"too many rows: particles would overlap\")\n",
    "\n",
    "else:\n",
    "    xs, ys = zip(*particle_list)\n",
    "\n",
    "    plt.plot(xs, ys, 'o')\n",
    "    plt.xlabel(\"$x$\")\n",
    "    plt.ylabel(\"$y$\")\n",
    "    plt.xlim([0, BOX_DIMENSIONS[0]])\n",
    "    plt.ylim([0, BOX_DIMENSIONS[1]])\n",
    "    plt.title(\"Positions of particles in a box {}Å x {}Å\".format(*BOX_DIMENSIONS))\n",
    "\n"
   ]
  },
  {
   "cell_type": "code",
   "execution_count": 168,
   "metadata": {},
   "outputs": [
    {
     "name": "stdout",
     "output_type": "stream",
     "text": [
      "When interaction energy is unity for particles within 5.5Å, in a system with 95 particles:\n",
      "=============================================\n",
      "| boundary conditions | interaction energy  |\n",
      "---------------------------------------------\n",
      "| closed              | 2165                |\n",
      "| periodic            | 3364                |\n",
      "=============================================\n",
      "Total energy = (interaction energy) + 95 * (energy of each particle)\n"
     ]
    }
   ],
   "source": [
    "# question 3, counting the energy of interaction of the hexagonal lattice\n",
    "\n",
    "cutoff = BOX_DIMENSIONS[0] / 2.\n",
    "energy_closed = 0\n",
    "energy_periodic = 0\n",
    "N = len(particle_list)\n",
    "\n",
    "for i in range(0, N):\n",
    "    cx, cy = particle_list[i]\n",
    "    for j in range(i + 1, N):\n",
    "        x, y = particle_list[j]\n",
    "        dx = cx - x\n",
    "        dy = cy - y\n",
    "        if dx * dx + dy * dy < cutoff * cutoff:\n",
    "            energy_closed += 1\n",
    "            \n",
    "        pdx = dx - BOX_DIMENSIONS[0] * round(dx / BOX_DIMENSIONS[0])\n",
    "        pdy = dy - BOX_DIMENSIONS[1] * round(dy / BOX_DIMENSIONS[1])\n",
    "        \n",
    "        if pdx * pdx + pdy * pdy < cutoff * cutoff:\n",
    "            energy_periodic += 1\n",
    "            \n",
    "print(\"When interaction energy is unity for particles within {}Å, in a system with {} particles:\".format(cutoff, len(particle_list)))\n",
    "\n",
    "print(\"=\"*45)\n",
    "print(\"| {:20s}| {:20s}|\".format(\"boundary conditions\", \"interaction energy\"))\n",
    "print(\"-\"*45)\n",
    "print(\"| {:20s}| {:<20.0f}|\".format(\"closed\", energy_closed))\n",
    "print(\"| {:20s}| {:<20.0f}|\".format(\"periodic\", energy_periodic))\n",
    "print(\"=\"*45)\n",
    "\n",
    "print(\"Total energy = (interaction energy) + {} * (energy of each particle)\".format(len(particle_list)))"
   ]
  }
 ],
 "metadata": {
  "kernelspec": {
   "display_name": "Python 3",
   "language": "python",
   "name": "python3"
  },
  "language_info": {
   "codemirror_mode": {
    "name": "ipython",
    "version": 3
   },
   "file_extension": ".py",
   "mimetype": "text/x-python",
   "name": "python",
   "nbconvert_exporter": "python",
   "pygments_lexer": "ipython3",
   "version": "3.8.10"
  },
  "orig_nbformat": 4,
  "vscode": {
   "interpreter": {
    "hash": "1f5470934f2111f64046fc899301469ed13d8964f6748cbba985ad66c0a8dde9"
   }
  }
 },
 "nbformat": 4,
 "nbformat_minor": 2
}
