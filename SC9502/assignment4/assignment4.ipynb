{
 "cells": [
  {
   "cell_type": "markdown",
   "metadata": {},
   "source": [
    "# 1"
   ]
  },
  {
   "cell_type": "code",
   "execution_count": 2,
   "metadata": {},
   "outputs": [],
   "source": [
    "\n",
    "class MyMatrix:\n",
    "    def __init__(self, data: list[list] = None, num_rows = None, num_cols = None):\n",
    "        \n",
    "        if not data:\n",
    "            assert(num_rows is not None and num_cols is not None)\n",
    "            self.num_rows = num_rows\n",
    "            self.num_cols = num_cols\n",
    "            self.data = [[0 for _ in range(0, self.num_cols)] for _ in range(0, self.num_rows)]\n",
    "            return \n",
    "        \n",
    "        self.num_rows = len(data)\n",
    "        assert(self.num_rows > 0)\n",
    "        self.num_cols = len(data[0])\n",
    "        assert(all([len(row) == self.num_cols for row in data]))\n",
    "        self.data = [[0 for _ in range(0, self.num_cols)] for _ in range(0, self.num_rows)]\n",
    "        for i in range(0, self.num_rows):\n",
    "            for j in range(0, self.num_cols):\n",
    "                self.data[i][j] = data[i][j]\n",
    "                \n",
    "    def __repr__(self):\n",
    "        return '\\n'.join(', '.join(f\"{item:4d}\" for item in row) for row in self.data)\n",
    "\n",
    "    def __getitem__(self, index):\n",
    "        row_i, col_j = index\n",
    "        return self.data[row_i][col_j]\n",
    "    \n",
    "    def __setitem__(self, index, value):\n",
    "        row_i, col_j = index\n",
    "        self.data[row_i][col_j] = value\n"
   ]
  },
  {
   "cell_type": "code",
   "execution_count": 3,
   "metadata": {},
   "outputs": [],
   "source": [
    "def mat_add(A: MyMatrix, B: MyMatrix):\n",
    "    assert(A.num_rows == B.num_rows and A.num_cols == B.num_cols)\n",
    "    C = MyMatrix(num_rows=A.num_rows, num_cols=A.num_cols)\n",
    "    \n",
    "    for i in range(0, A.num_rows):\n",
    "        for j in range(0, A.num_cols):\n",
    "            C[i, j] = A[i, j] + B[i, j]\n",
    "    \n",
    "    return C"
   ]
  },
  {
   "cell_type": "code",
   "execution_count": 4,
   "metadata": {},
   "outputs": [
    {
     "name": "stdout",
     "output_type": "stream",
     "text": [
      "   0,    2,    4,    6\n",
      "   8,   10,   12,   14\n",
      "   2,    2,    2,    2\n"
     ]
    }
   ],
   "source": [
    "mat_A = MyMatrix([[1, 2, 3, 4], [5, 6, 7, 8], [9, 10, 11, 12]])\n",
    "mat_B = MyMatrix([[-1, 0, 1, 2], [3, 4, 5, 6], [-7, -8, -9, -10]])\n",
    "\n",
    "print(mat_add(mat_A, mat_B))"
   ]
  },
  {
   "cell_type": "markdown",
   "metadata": {},
   "source": [
    "# 2"
   ]
  },
  {
   "cell_type": "code",
   "execution_count": 5,
   "metadata": {},
   "outputs": [],
   "source": [
    "def dot_row_col(A: MyMatrix, B: MyMatrix, row_i, col_j):\n",
    "    sum = 0\n",
    "    for i in range(A.num_cols):\n",
    "        sum += A[row_i, i] * B[i, col_j]\n",
    "    return sum\n",
    "\n",
    "def mat_mul(A: MyMatrix, B: MyMatrix):\n",
    "    C = MyMatrix(num_rows=A.num_rows, num_cols=B.num_cols)\n",
    "    \n",
    "    for i in range(0, A.num_rows):\n",
    "        for j in range(0, B.num_cols):\n",
    "            C[i, j] = dot_row_col(A, B, i, j)\n",
    "    \n",
    "    return C"
   ]
  },
  {
   "cell_type": "code",
   "execution_count": 6,
   "metadata": {},
   "outputs": [
    {
     "name": "stdout",
     "output_type": "stream",
     "text": [
      "matrix A:\n",
      " -10,   17,    8\n",
      "   3,   16,    4\n",
      "  11,  -12,   20\n",
      "  -2,    1,   12\n",
      "matrix B:\n",
      "  -2,   18,  -19,   15,  -15\n",
      " -15,   -1,  -13,  -11,    3\n",
      "  -3,   -6,    2,    4,    0\n",
      "matrix C (result of A * B):\n",
      "-259, -245,  -15, -305,  201\n",
      "-258,   14, -257, -115,    3\n",
      "  98,   90,  -13,  377, -201\n",
      " -47, -109,   49,    7,   33\n"
     ]
    }
   ],
   "source": [
    "import random\n",
    "\n",
    "N = 4\n",
    "M = 3\n",
    "L = 5\n",
    "\n",
    "mat_A = MyMatrix(num_rows=N, num_cols=M)\n",
    "mat_B = MyMatrix(num_rows=M, num_cols=L)\n",
    "\n",
    "for i in range(0, N):\n",
    "    for j in range(0, M):\n",
    "        mat_A[i, j] = random.randint(-20, 20)\n",
    "        \n",
    "\n",
    "for i in range(0, M):\n",
    "    for j in range(0, L):\n",
    "        mat_B[i, j] = random.randint(-20, 20)\n",
    "\n",
    "print(\"matrix A:\")\n",
    "print(mat_A)\n",
    "print(\"matrix B:\")\n",
    "print(mat_B)\n",
    "\n",
    "print(\"matrix C (result of A * B):\")\n",
    "print(mat_mul(mat_A, mat_B))\n"
   ]
  },
  {
   "cell_type": "code",
   "execution_count": 7,
   "metadata": {},
   "outputs": [
    {
     "name": "stdout",
     "output_type": "stream",
     "text": [
      "[[-10  17   8]\n",
      " [  3  16   4]\n",
      " [ 11 -12  20]\n",
      " [ -2   1  12]]\n",
      "[[ -2  18 -19  15 -15]\n",
      " [-15  -1 -13 -11   3]\n",
      " [ -3  -6   2   4   0]]\n",
      "[[-259 -245  -15 -305  201]\n",
      " [-258   14 -257 -115    3]\n",
      " [  98   90  -13  377 -201]\n",
      " [ -47 -109   49    7   33]]\n"
     ]
    }
   ],
   "source": [
    "import numpy as np\n",
    "\n",
    "mat_A_np = np.array(mat_A.data, dtype=int)\n",
    "mat_B_np = np.array(mat_B.data, dtype=int)\n",
    "\n",
    "print(mat_A_np)\n",
    "print(mat_B_np)\n",
    "print(np.matmul(mat_A_np, mat_B_np))"
   ]
  },
  {
   "cell_type": "code",
   "execution_count": 27,
   "metadata": {},
   "outputs": [],
   "source": [
    "import numpy as np\n",
    "import time\n",
    "import matplotlib.pyplot as plt\n",
    "\n",
    "def create_square_mats(N: int):\n",
    "    mat_A = MyMatrix(num_rows=N, num_cols=N)\n",
    "    mat_B = MyMatrix(num_rows=N, num_cols=N)\n",
    "\n",
    "    for i in range(0, N):\n",
    "        for j in range(0, N):\n",
    "            mat_A[i, j] = random.randint(-20, 20)\n",
    "            \n",
    "\n",
    "    for i in range(0, N):\n",
    "        for j in range(0, N):\n",
    "            mat_B[i, j] = random.randint(-20, 20)\n",
    "    return mat_A, mat_B\n",
    "\n",
    "N = 4\n",
    "N_MAX = 50\n",
    "NUM_RUNS = 10\n",
    "\n",
    "duration = [[], []]\n",
    "\n",
    "ns = np.linspace(N, N_MAX, 20)\n",
    "for n in ns:\n",
    "    side_len = int(n)\n",
    "    mat_A, mat_B = create_square_mats(side_len)\n",
    "    mat_A_np = np.array(mat_A.data, dtype=int)\n",
    "    mat_B_np = np.array(mat_B.data, dtype=int)\n",
    "\n",
    "    start_time = time.time()\n",
    "    for run in range(0, NUM_RUNS):\n",
    "        mat_C = mat_mul(mat_A, mat_B)\n",
    "    end_time = time.time()\n",
    "    duration[0].append((end_time - start_time) / NUM_RUNS)\n",
    "    \n",
    "    start_time = time.time()\n",
    "    for run in range(0, NUM_RUNS * 100):\n",
    "        mat_C_np = np.matmul(mat_A_np, mat_B_np)\n",
    "    end_time = time.time()\n",
    "    duration[1].append((end_time - start_time) / (NUM_RUNS * 100))\n",
    "    "
   ]
  },
  {
   "cell_type": "code",
   "execution_count": 28,
   "metadata": {},
   "outputs": [
    {
     "data": {
      "text/plain": [
       "(1e-08, 0.5)"
      ]
     },
     "execution_count": 28,
     "metadata": {},
     "output_type": "execute_result"
    },
    {
     "data": {
      "image/png": "[encoded data removed]",
      "text/plain": [
       "<Figure size 640x480 with 1 Axes>"
      ]
     },
     "metadata": {},
     "output_type": "display_data"
    }
   ],
   "source": [
    "\n",
    "fig, ax = plt.subplots()\n",
    "ax.plot(ns, duration[0], label=\"my matmul\")\n",
    "ax.plot(ns, duration[1], label=\"numpy matmul\")\n",
    "ax.set_yscale('log')\n",
    "ax.set_ylim([1e-8, 0.5])"
   ]
  },
  {
   "cell_type": "markdown",
   "metadata": {},
   "source": [
    "The numpy implementation is significantly faster than my custom (naive) implementation. It is known that numpy uses optimized algorithms and data structures, whereas my own matrix is implemented directly in Python without any optimizations."
   ]
  },
  {
   "cell_type": "markdown",
   "metadata": {},
   "source": [
    "# 3"
   ]
  },
  {
   "cell_type": "code",
   "execution_count": 104,
   "metadata": {},
   "outputs": [
    {
     "name": "stdout",
     "output_type": "stream",
     "text": [
      "True\n"
     ]
    }
   ],
   "source": [
    "# Implement SVD\n",
    "import numpy as np\n",
    "from numpy import linalg\n",
    "\n",
    "def compute_svd(A: np.ndarray):\n",
    "    eigval, eigvec = linalg.eig(np.matmul(A.T, A))\n",
    "    \n",
    "    # use abs since sometimes a negative value is returned, which should be zero but\n",
    "    # is just very small and negative due to floating point error.\n",
    "    mat_Sigma = np.diag(np.sqrt(np.abs(eigval)))\n",
    "    mat_V = eigvec\n",
    "    mat_U = np.matmul(np.matmul(A, mat_V), linalg.inv(mat_Sigma))\n",
    "    return mat_U, mat_Sigma, mat_V\n",
    "\n",
    "    \n",
    "    \n",
    "mat_A = np.random.rand(4, 5)\n",
    "mat_U, mat_Sigma, mat_V = compute_svd(mat_A)\n",
    "print(np.allclose(mat_A, np.matmul(np.matmul(mat_U, mat_Sigma), mat_V.T), rtol=1e-05, atol=1e-08))\n"
   ]
  }
 ],
 "metadata": {
  "kernelspec": {
   "display_name": "base",
   "language": "python",
   "name": "python3"
  },
  "language_info": {
   "codemirror_mode": {
    "name": "ipython",
    "version": 3
   },
   "file_extension": ".py",
   "mimetype": "text/x-python",
   "name": "python",
   "nbconvert_exporter": "python",
   "pygments_lexer": "ipython3",
   "version": "3.11.5"
  }
 },
 "nbformat": 4,
 "nbformat_minor": 2
}
