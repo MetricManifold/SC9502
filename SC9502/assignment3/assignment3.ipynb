{
 "cells": [
  {
   "cell_type": "markdown",
   "metadata": {},
   "source": [
    "# 1"
   ]
  },
  {
   "cell_type": "code",
   "execution_count": 12,
   "metadata": {},
   "outputs": [
    {
     "name": "stdout",
     "output_type": "stream",
     "text": [
      "median is 25.0\n"
     ]
    }
   ],
   "source": [
    "dataset = [19, 44, 3, 47, 50, 22, 23, 9, 24, 25, 25, 49, 16, 9, 21, 42, 32, 9, 41, 38]\n",
    "sorted(dataset)\n",
    "N = len(dataset)\n",
    "\n",
    "if N % 2 == 0:\n",
    "    median0 = dataset[N // 2 - 1]\n",
    "    median1 = dataset[N // 2]\n",
    "    median = (median0 + median1) / 2\n",
    "else:\n",
    "    median = dataset[(N - 1) // 2]\n",
    "\n",
    "print(f\"median is {median}\")"
   ]
  },
  {
   "cell_type": "markdown",
   "metadata": {},
   "source": [
    "# 2\n",
    "\n",
    "Variance can also be computed using the formula:\n",
    "\n",
    "\\begin{align}\n",
    "\\sigma^2 &= \\frac{1}{N^2} \\sum_{i<j}(x_i - x_j)^2 \\\\\n",
    "&= \\frac{1}{N^2} \\sum_{j=1}^{N}\\sum_{i=1}^{j-1}(x_i - x_j)^2\n",
    "\\end{align}"
   ]
  },
  {
   "cell_type": "markdown",
   "metadata": {},
   "source": [
    "To prove this, we will start from the usual formula:\n",
    "\n",
    "\\begin{align}\n",
    "&= \\frac{1}{N} \\sum_{i=1}^{N}(x_i - \\bar{x})^2 \\\\\n",
    "&= \\frac{1}{N} \\sum_{i=1}^{N}(x_i - \\frac{1}{N}\\sum_{j=1}^{N}x_j)^2 \\\\\n",
    "&= \\frac{1}{N} \\sum_{i=1}^{N}\\left[x_i^2 -2\\frac{1}{N}x_i\\sum_{j=1}^{N}x_j+\\left(\\frac{1}{N}\\sum_{j=1}^{N}x_j\\right)^2\\right] \\\\\n",
    "&= \\frac{1}{N} \\sum_{i=1}^{N}x_i^2 -\\frac{1}{N}\\sum_{i=1}^{N}2\\frac{1}{N}x_i\\sum_{j=1}^{N}x_j+\\frac{1}{N}\\sum_{i=1}^{N}\\left(\\frac{1}{N}\\sum_{j=1}^{N}x_j\\right)^2 \\\\\n",
    "&= \\frac{1}{N} \\sum_{i=1}^{N}x_i^2 -\\frac{1}{N^2}\\sum_{i=1}^{N}\\sum_{j=1}^{N}2x_ix_j+\\frac{1}{N^2}\\left(\\sum_{j=1}^{N}x_j\\right)^2\n",
    "\\end{align}\n",
    "To get from Eq. 4 to Eq. 5, I used the property that $\\sum^N_i f(x) = N f(x)$ for the last term. Now we want to find an equivalent expression for the last term that brings the summation outside any exponent or function. We can examine the sequence to find a new equivalent summation:\n",
    "\n",
    "\\begin{align}\n",
    "&= \\left(\\sum_{j=1}^{N}x_j\\right)^2 \\\\\n",
    "&= \\left(x_1 + x_2 + x_3 + \\ldots\\right)\\left(x_1 + x_2 + x_3 + \\ldots\\right) \\\\\n",
    "&= x_1x_1 + x_1x_2 + \\ldots + x_2x_1 + x_2x_2 + \\ldots + x_3x_1 + x_3x_2 + \\ldots \\\\\n",
    "&= (x_1x_1 + x_1x_2 + \\ldots) + (x_2x_1 + x_2x_2 + \\ldots) + (x_3x_1 + x_3x_2 + \\ldots) \\\\\n",
    "\\end{align}\n",
    "This result is a sequence of sequences that can be expressed using two indices $i$ and $j$: $x_ix_j$. This results in the summation:\n",
    "\n",
    "\\begin{align}\n",
    "&= \\sum_{j=1}^{N}\\sum_{i=1}^{N}x_ix_j \\\\\n",
    "\\end{align}\n",
    "Substituting allows us to combine two of the sums, and resolve to get the equivalent \"alternate\" expression for variance:\n",
    "\n",
    "\\begin{align}\n",
    "&= \\frac{1}{N} \\sum_{i=1}^{N}x_i^2 -\\frac{1}{N^2}\\sum_{i=1}^{N}\\sum_{j=1}^{N}2x_ix_j+\\frac{1}{N^2}\\sum_{j=1}^{N}\\sum_{i=1}^{N}x_ix_j \\\\\n",
    "&= \\frac{1}{N} \\sum_{i=1}^{N}x_i^2 -\\frac{1}{N^2}\\sum_{i=1}^{N}\\sum_{j=1}^{N}x_ix_j \\\\\n",
    "&= \\frac{1}{2}\\left[2\\frac{1}{N} \\sum_{i=1}^{N}x_i^2 -2\\frac{1}{N^2}\\sum_{i=1}^{N}\\sum_{j=1}^{N}x_ix_j\\right] \\\\\n",
    "&= \\frac{1}{2}\\left[2\\frac{1}{N} \\left(\\frac{1}{N}\\sum_{i=1}^{N}\\sum_{j=1}^{N}x_i^2\\right) -2\\frac{1}{N^2}\\sum_{i=1}^{N}\\sum_{j=1}^{N}x_ix_j\\right] \\\\\n",
    "&= \\frac{1}{2}\\left[\\frac{1}{N^2} \\sum_{i=1}^{N}\\sum_{j=1}^{N}x_i^2 -2 x_ix_j\\right] \\\\\n",
    "&= \\frac{1}{2}\\frac{1}{N^2} \\sum_{i=1}^{N}\\sum_{j=1}^{N}(x_i -x_j)^2 \\\\\n",
    "\\end{align}\n",
    "To go from Eq. 3 to Eq. 4, we used the 'reverse' of $\\sum^N_i f(x) = N f(x)$, in order to introduce an additional summation to combine the two terms. Once combined, it was possible to change the index on $x_i$, since the following is true:\n",
    "\\begin{align}\n",
    "\\sum_{i=1}^{N}\\sum_{j=1}^{N}x_i^2 = \\sum_{i=1}^{N}\\sum_{j=1}^{N}x_j^2\n",
    "\\end{align}\n",
    "I.e. the summation is symmetric in its indices $i$ and $j$. \n",
    "\n",
    "The final step is consolidating the last term with the desired alternate form. This can also be done by comparing indices.\n",
    "\\begin{align}\n",
    "&= \\sum_{i=1}^{N}\\sum_{j=1}^{N}(x_i -x_j)^2 \\\\\n",
    "&= (x_1 -x_1)^2 + (x_1 -x_2)^2 + (x_1 -x_3)^2 + \\ldots + (x_2 -x_1)^2 + (x_2 -x_2)^2+ (x_3 -x_2)^2 + \\ldots\\\\\n",
    "&= (x_1 -x_1)^2 + (x_2 -x_2)^2 + \\dots + ((x_1 -x_2)^2 + (x_2 -x_1)^2) + ((x_1 -x_3)^2 + (x_3 -x_1)^2)+ \\ldots\\\\\n",
    "&= 0 + 2(x_1 -x_2)^2 + 2(x_1 -x_3)^2+ \\ldots + 2(x_2 -x_3)^2 + \\ldots\\\\\n",
    "&= 2\\left[(x_1 -x_2)^2 + (x_1 -x_3)^2+ \\ldots + (x_2 -x_3)^2 + \\ldots\\right]\\\\\n",
    "&= 2\\sum_{j=1}^N\\sum_{i=1}^{j-1}(x_i -x_j)^2\\\\\n",
    "\\end{align}\n",
    "\n",
    "Thus we have:\n",
    "\\begin{align}\n",
    " \\frac{1}{N} \\sum_{i=1}^{N}(x_i - \\bar{x})^2  &= \\frac{1}{2}\\frac{1}{N^2} \\sum_{i=1}^{N}\\sum_{j=1}^{N}(x_i -x_j)^2 \\\\\n",
    " &= \\frac{1}{2}\\frac{1}{N^2} 2\\sum_{j=1}^N\\sum_{i=1}^{j-1}(x_i -x_j)^2 \\\\\n",
    " &= \\frac{1}{N^2} \\sum_{j=1}^N\\sum_{i=1}^{j-1}(x_i -x_j)^2 \\\\\n",
    "\\end{align}\n"
   ]
  },
  {
   "cell_type": "markdown",
   "metadata": {},
   "source": [
    "# 3"
   ]
  },
  {
   "cell_type": "code",
   "execution_count": 23,
   "metadata": {},
   "outputs": [
    {
     "name": "stdout",
     "output_type": "stream",
     "text": [
      "variation using the standard formula: 204.64\n",
      "variation using the alternate formula: 204.64000000000001\n"
     ]
    }
   ],
   "source": [
    "mean = sum(dataset) / len(dataset)\n",
    "var = (1 / len(dataset)) * sum([(x - mean) ** 2.0 for x in dataset])\n",
    "var_alt = (1 / (len(dataset) ** 2)) * sum(\n",
    "    [\n",
    "        (dataset[i] - dataset[j]) ** 2.0\n",
    "        for j in range(0, len(dataset))\n",
    "        for i in range(0, j)\n",
    "    ]\n",
    ")\n",
    "\n",
    "print(\n",
    "    f\"variation using the standard formula: {var}\\n\"\n",
    "    f\"variation using the alternate formula: {var_alt}\"\n",
    ")"
   ]
  },
  {
   "cell_type": "markdown",
   "metadata": {},
   "source": [
    "Therefore, we can also see that in application, the formula is true."
   ]
  },
  {
   "cell_type": "markdown",
   "metadata": {},
   "source": [
    "# 4\n",
    "\n",
    "The difference is simply:\n",
    "\n",
    "$$\n",
    "\\frac{1}{N(N-1)}\\sum_{i=1}^{N}{(x_i-\\bar{x})^2}\n",
    "$$\n",
    "\n",
    "The plot is shown below. We see that there is only a difference at very small $N$, otherwise the difference is very negligible. The $y$-axis is in units of $\\sum_{i=1}^{N}{(x_i-\\bar{x})^2}$, to show the relative difference of the two measurements.\n",
    "\n",
    "The difference between variance and sample variance is that measuring the variance expects all the data of the population, whereas the sample variance is valid for a proportion of the population."
   ]
  },
  {
   "cell_type": "code",
   "execution_count": 32,
   "metadata": {},
   "outputs": [
    {
     "name": "stderr",
     "output_type": "stream",
     "text": [
      "C:\\Users\\Zirconix\\AppData\\Local\\Temp\\ipykernel_31040\\577311316.py:5: RuntimeWarning: divide by zero encountered in divide\n",
      "  return 1 / (n * (n - 1))\n"
     ]
    },
    {
     "data": {
      "text/plain": [
       "Text(0, 0.5, 'Difference $\\\\left(\\\\sum_{i=1}^{N} (x_i-\\\\bar{x})^2\\\\right)^{-1}$')"
      ]
     },
     "execution_count": 32,
     "metadata": {},
     "output_type": "execute_result"
    },
    {
     "data": {
      "image/png": "[encoded data removed]",
      "text/plain": [
       "<Figure size 640x480 with 1 Axes>"
      ]
     },
     "metadata": {},
     "output_type": "display_data"
    }
   ],
   "source": [
    "import matplotlib.pyplot as plt\n",
    "import numpy as np\n",
    "\n",
    "def diff_sv(n):\n",
    "    return 1 / (n * (n - 1))\n",
    "\n",
    "X = np.linspace(1, 1000, 50)\n",
    "plt.plot(X, diff_sv(X))\n",
    "plt.xlabel('$N$')\n",
    "plt.ylabel('Difference $\\left(\\sum_{i=1}^{N} (x_i-\\\\bar{x})^2\\\\right)^{-1}$')\n"
   ]
  },
  {
   "cell_type": "markdown",
   "metadata": {},
   "source": [
    "# 5\n",
    "\n",
    "Prove that\n",
    "$$\n",
    "\\frac{1}{\\sigma \\sqrt{2\\pi}}\\int_{-\\infty}^\\infty dx \\left[ \\exp\\left(\\frac{-(x-\\bar{x})^2}{2\\sigma^2}\\right)\\right] = 1\n",
    "$$\n",
    "\n",
    "First we have to do a change of variables:\n",
    "\\begin{align}\n",
    "u^2 &= \\frac{(x-\\bar{x})^2}{2\\sigma^2} \\\\\n",
    "u &= \\frac{x-\\bar{x}}{\\sqrt{2\\sigma^2}}\n",
    "\\end{align}\n",
    "And for the derivative:\n",
    "\\begin{align}\n",
    "2udu &= \\frac{2(x-\\bar{x})}{2\\sigma^2}dx \\\\\n",
    "2\\sigma^2 udu &= (x-\\bar{x})dx \\\\\n",
    "2\\sigma^2 udu &= u\\sqrt{2\\sigma^2}dx \\\\\n",
    "\\sqrt{2\\sigma^2} du &= dx \\\\\n",
    "\\end{align}\n",
    "\n",
    "Substituting yields:\n",
    "\\begin{align}\n",
    "\\frac{1}{\\sigma \\sqrt{2}}\\int_{-\\infty}^\\infty dx \\left[ \\exp\\left(\\frac{-(x-\\bar{x})^2}{2\\sigma^2}\\right)\\right] =\\int_{-\\infty}^\\infty du  \\exp(-u^2)\n",
    "\\end{align}\n",
    "\n",
    "In order to get a value for this integral, let $I = \\int_{-\\infty}^\\infty du  \\exp(-u^2)$. Then we can solve for $I^2$:\n",
    "\n",
    "\\begin{align}\n",
    "I^2&=\\int_{-\\infty}^\\infty du \\int_{-\\infty}^\\infty dv  \\exp(-u^2)\\exp(-v^2) \\\\\n",
    "I^2&=\\int_{-\\infty}^\\infty  \\int_{-\\infty}^\\infty dvdu  \\exp(-(u^2+v^2)) \\\\\n",
    "\\end{align}\n",
    "Substituting in polar coordinates: $u^2 + v^2 = r^2$, and using the fact that $dudv = rdrd\\theta$, and integrating over all space, $0\\le r<\\infty$ and $0\\le \\theta \\le 2\\pi$:\n",
    "\n",
    "\\begin{align}\n",
    "I^2&=\\int_{\\theta=0}^{2\\pi}  \\int_{r=0}^\\infty drd\\theta r\\exp(-r^2) \\\\\n",
    "&=2\\pi \\int_{r=0}^\\infty dr r\\exp(-r^2) \\\\\n",
    "&=2\\pi \\left[-\\frac{1}{2}\\exp(-r^2)\\right]_{r=0}^{\\infty}  \\\\\n",
    "&=\\pi  \\\\\n",
    "\\end{align}\n",
    "\n",
    "Substituting this result back into the original form yields:\n",
    "\n",
    "\\begin{align}\n",
    "\\frac{1}{\\sigma \\sqrt{2\\pi}}\\int_{-\\infty}^\\infty dx \\left[ \\exp\\left(\\frac{-(x-\\bar{x})^2}{2\\sigma^2}\\right)\\right] &= \\frac{1}{\\sqrt{\\pi}}\\int_{-\\infty}^\\infty du  \\exp(-u^2)\\\\\n",
    "&= \\frac{1}{\\sqrt{\\pi}}\\sqrt{\\pi} \\\\\n",
    "&= 1\n",
    "\\end{align}\n"
   ]
  }
 ],
 "metadata": {
  "kernelspec": {
   "display_name": "base",
   "language": "python",
   "name": "python3"
  },
  "language_info": {
   "codemirror_mode": {
    "name": "ipython",
    "version": 3
   },
   "file_extension": ".py",
   "mimetype": "text/x-python",
   "name": "python",
   "nbconvert_exporter": "python",
   "pygments_lexer": "ipython3",
   "version": "3.11.5"
  }
 },
 "nbformat": 4,
 "nbformat_minor": 2
}
