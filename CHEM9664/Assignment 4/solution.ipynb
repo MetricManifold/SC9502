{
 "cells": [
  {
   "attachments": {},
   "cell_type": "markdown",
   "metadata": {},
   "source": [
    "# Snapshots collected through the tutorial"
   ]
  },
  {
   "attachments": {},
   "cell_type": "markdown",
   "metadata": {},
   "source": [
    "## Step 1:\n",
    "**What is the size of the box that was generated?**\n",
    "   \n",
    "    new box vectors :  4.000  4.000  4.000 (nm)\n",
    "\n",
    "**How do you know the box is cubic?**\n",
    "\n",
    "The angles of the box are: \n",
    "\n",
    "    new box angles  :  90.00  90.00  90.00 (degrees)\n",
    "    \n",
    "Thefore the box is cubic."
   ]
  },
  {
   "attachments": {},
   "cell_type": "markdown",
   "metadata": {},
   "source": [
    "<img src=\"initial.bmp\" width=600px/>"
   ]
  },
  {
   "attachments": {},
   "cell_type": "markdown",
   "metadata": {},
   "source": [
    "## Step 2:\n",
    "\n",
    "**What is the precise number water molecules?**\n",
    "\n",
    "There are 1946 molecules:\n",
    "\n",
    "    SOL (   3 atoms):  1946 residues\n",
    "\n",
    "**How many atoms in total?**\n",
    "\n",
    "    Generated solvent containing 5838 atoms in 1946 residues\n",
    "\n",
    "**Were there any overlaps? If so, how many?**\n",
    "\n",
    "There were 2160 total overlaps:\n",
    "    \n",
    "    Removed 1503 solvent atoms due to solvent-solvent overlap\n",
    "    Removed 657 solvent atoms due to solute-solvent overlap\n",
    "\n",
    "**What is the exact density of the system?**\n",
    "\n",
    "    Density                :     1010.58 (g/l)\n",
    "\n",
    "**What are the exact dimensions of the box (hint: you may want to check the new gro file)?**\n",
    "\n",
    "The exact dimensions are $4.0 \\times 4.0 \\times 4.0$ nm."
   ]
  },
  {
   "attachments": {},
   "cell_type": "markdown",
   "metadata": {},
   "source": [
    "\n",
    "<img src=\"solvated.bmp\" width=600px/>"
   ]
  },
  {
   "attachments": {},
   "cell_type": "markdown",
   "metadata": {},
   "source": [
    "## Step 3:\n",
    "\n",
    "**The title mentions index file. Find the Gromacs manual from the web and explain in your own words what an index file is and for what it is needed.**\n",
    "\n",
    "The index file is the file with the extension `.ndx`. It is generated through the switch -n with the command `pdb2gmx`. This file is primarily used for passing it to analysis programs or for graphics. "
   ]
  },
  {
   "attachments": {},
   "cell_type": "markdown",
   "metadata": {},
   "source": [
    "## Step 4:\n",
    "\n",
    "**Go to the Gromacs manual and read what the parameters `integrator`, `nsteps` and `pbc` are. Explain (in your own words) their significance.**\n",
    "\n",
    "These are all keywords in thd `.mdp` configuration file.\n",
    "\n",
    "`integrator`: This keyword specifies algorithms to use in minimizing the energy of the system.\n",
    "\n",
    "`nsteps`: The maximum number of steps to take when integrating or maximizing. This is important because sometimes we may wish to stop minimizing after a certain amount of steps so that the process doesn't continue indefinitely.\n",
    "\n",
    "`pbc`: Indicates along which axes the system is periodic. "
   ]
  },
  {
   "attachments": {},
   "cell_type": "markdown",
   "metadata": {},
   "source": [
    "## Step 5:\n",
    "\n",
    "**How many picoseconds did it take for the minimization to converge?**\n",
    "\n",
    "The minimization didn't converge (i.e. reach the desired epsilon) within the number of steps specified, which was 3000. \n",
    "\n",
    "**How do you know if the minimization actually worked out?**\n",
    "\n",
    "We know the minimization worked if the final message says that the minimization was successful (reached the tolerance). However, in the message indicated that minimization didn't finish, but the we checked that the minimization was acceptable by using the command \n",
    "    \n",
    "    gmx energy -f spc-oplsaa-solvated-cubic-minimize -o energy-check.xvg\n",
    "\n",
    "and we looking at potential energy by plotting to make sure it there are no issues. The plot is shown below with the $y$-axis in logscale.\n",
    "\n",
    "<img src=\"potential_energy_min.png\" width=600px/>\n",
    "\n",
    "**What other possible methods there are for energy minimization (=methods)?**\n",
    "\n",
    "There are a few beyond `steep`. These are: `md`, `md-vv`, `md-vv-avek`, `sd`, `bd`, `l-bfgs`, `nm`, `tpi`, `tpic`, and `mimic`. \n",
    "\n",
    "**Use VMD to visualize how the minimization process worked: pick residues 10 and 11, and superimpose the starting structure and the minimized structure. Color the molecules in the initial structure in red and in the optimized structure in orange.**\n",
    "\n",
    "<img src=\"minimized_delta.bmp\" width=600px/>\n",
    "\n",
    "**Based on the previous question: Describe the rotations and translations of the two water molecules (residues 10 and 11). Explain your observations.**\n",
    "\n",
    "The molecules have been mostly just translated slightly. However, one of them is also slightly rotated.\n",
    "\n"
   ]
  },
  {
   "attachments": {},
   "cell_type": "markdown",
   "metadata": {},
   "source": [
    "## Step 6:\n",
    "\n",
    "**Examine the 3 different energies. Is the system well-behaved or are there indications of problems? Provide clear reasons for your answer.**\n",
    "\n",
    "The system appears to be well behaved. The energies fluctuate slightly but those fluctuations are very small and simply a result of the quite small box that is being simulated (small compared to a real-world system).\n",
    "\n",
    "**Kinetic energy increases. What was the starting temperature? What is the final temperature (approximately)? How large is the increase?**\n",
    "\n",
    "The initial kinetic energy is 16115.868164, and the final is 9447.751953. Although the initial kinetic energy should probably be taken as the second record of the simulation, which is 8050.861328. The increase from second record to last is 17.3508%. Using the equation of state for the idea gas law, the kinetic temperature is related to temperature via:\n",
    "$$ \\text{KE}_{\\text{avg}} = \\frac{3}{2}k_B T.$$\n",
    "\n",
    "\n",
    "The units of $\\text{KE}$ that are provided by gromacs are $\\text{kJ mol}^{-1}$, and is the total kinetic energy in the system. The above equation requires $\\text{KE}$ in terms of $\\text{J}$ and per-residual, so taking this into account we find that:\n",
    "\n",
    "$$T(1 \\text{ps}) = 331.722 K$$\n",
    "$$T(20 \\text{ps}) = 389.278 K$$\n",
    "\n",
    "The \"ideal\" kinetic temperature is different than recorded by the `gmx energy` command when temperature is selected, which is only 188.166 K. Clearly this command didn't measure the temperature quite well because this would mean the water is at -90°C, and therefore frozen.\n",
    "\n",
    "\n",
    "**Why does kinetic energy increase and potential energy decrease?**\n",
    "\n",
    "Energy of the system is conserved (or at least tries to be).\n",
    "\n",
    "**What can be done to maintain constant temperature?**\n",
    "\n",
    "Running it as a NVT system.\n",
    "\n",
    "**NVE ensemble is, by definition, constant energy. Discuss the behavior of the total energy.**\n",
    "\n",
    "The total energy slightly increases, but this is by only about 0.00523%. This is extremely small, and clearly a result of the small box size compared to real physical systems, as well as the numerical error arising from the simulation.\n",
    "\n",
    "**Compare your plots to these. Are there differences? Describe them and justify their origin.**\n",
    "\n",
    "Total energy:\n",
    "\n",
    "<img src=\"energy-check-spc-nve-TE.png\" width=600px/>\n",
    "\n",
    "Potential energy:\n",
    "\n",
    "<img src=\"energy-check-spc-nve-U.png\" width=600px/>\n",
    "\n",
    "Kinetic energy:\n",
    "\n",
    "<img src=\"energy-check-spc-nve.png\" width=600px/>\n"
   ]
  },
  {
   "attachments": {},
   "cell_type": "markdown",
   "metadata": {},
   "source": [
    "# Assignment 4"
   ]
  },
  {
   "attachments": {},
   "cell_type": "markdown",
   "metadata": {},
   "source": [
    "\n",
    "## Radial Distribution Function\n",
    "\n",
    "### Combined:\n",
    "\n",
    "<img src=\"spc-nve-rdf.png\" width=600px/>\n",
    "\n"
   ]
  },
  {
   "attachments": {},
   "cell_type": "markdown",
   "metadata": {},
   "source": [
    "## Diffusion Coefficient\n",
    "\n",
    "### SPC\n",
    "\n",
    "$D = 7.0\\times 10^{-5} \\text{ cm}^2/\\text{s}$\n",
    "\n",
    "### TIP4P\n",
    "\n",
    "$D = 2.0\\times 10^{-5}\\text{ cm}^2/\\text{s}$\n",
    "\n",
    "### TIP5P\n",
    "\n",
    "$D = 6.0\\times 10^{-5}\\text{ cm}^2/\\text{s}$\n",
    "\n",
    "### Experimental\n",
    "\n",
    "The experimental value of the diffusion coefficient of pure water at 298.2K, also called the \"self-diffusion\" coefficient, is approximately $2.3 \\times 10^{-9} \\text{ m}^2 \\text{ s}^{-1} = 2.3 \\times 10^{-5} \\text{ cm}^2 \\text{ s}^{-1}$ as reported by [Krynicki and co-workers](https://doi.org/10.1039/dc9786600199). This aligns extremely well with the value determined from the TIP4P simulation. The differences come from the charge distribution used to simulate water. It is clear that in the charge distribution representation of SPC (point charge model) and TIP5P (using a 5 point charge model) are not as good as modeling water at this temperature. \n",
    "\n",
    "## References\n",
    "\n",
    "1. Krynicki, K., Green, C. D. and Sawyer, D. W. _**Pressure and Temperature Dependence of Self-Diffusion in Water**_. _Faraday Discuss. Chem. Soc._, 66, 199, (1978). https://doi.org/10.1039/dc9786600199.\n"
   ]
  }
 ],
 "metadata": {
  "language_info": {
   "name": "python"
  },
  "orig_nbformat": 4
 },
 "nbformat": 4,
 "nbformat_minor": 2
}
