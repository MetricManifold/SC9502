{
 "cells": [
  {
   "attachments": {},
   "cell_type": "markdown",
   "metadata": {},
   "source": [
    "# Final Project\n",
    "\n",
    "## Gromacs Commands\n",
    "\n",
    "### Regular Sized Box\n",
    "\n",
    "    gmx insert-molecules -o argon864.gro -ci argon_.gro -nmol 864 -box 3.47786 3.47786 3.47786\n",
    "\n",
    "    gmx pdb2gmx -f argon864.gro -o argon864-54a7 -p argon864-54a7 -n argon864-54a7\n",
    "\n",
    "> selected: \n",
    "> - `14` (_GROMOS96 54a7 force field_)\n",
    "> - `1` (_Simple point charge_)\n",
    "\n",
    "    gmx grompp -v -f em.mdp -c argon864-54a7 -p argon864-54a7 -o argon864-54a7-minimize -maxwarn 1\n",
    "\n",
    "    gmx mdrun -v -deffnm argon864-54a7-minimize\n",
    "\n",
    "    gmx grompp -f nve-equib.mdp -c argon864-54a7-minimize -p argon864-54a7 -o argon864-54a7-nve -maxwarn 1\n",
    "\n",
    "> nve-equib.mdp selects the NVE statistics, and this is ran for the two other statistics as well: NVT and NVP.\n",
    "\n",
    "    gmx mdrun -s argon864-54a7-nve -o -x -deffnm argon864-54a7-nve-run\n",
    "\n",
    "### Twice-Sized Box\n",
    "\n",
    "    gmx insert-molecules -o argon1728.gro -ci argon_.gro -nmol 1728 -box 4.3818 4.3818 4.3818\n",
    "\n",
    "    gmx pdb2gmx -f argon1728.gro -o argon1728-54a7 -p argon1728-54a7 -n argon1728-54a7\n",
    "\n",
    "    gmx grompp -v -f em.mdp -c argon1728-54a7 -p argon1728-54a7 -o argon1728-54a7-minimize -maxwarn 1\n",
    "\n",
    "    gmx mdrun -v -deffnm argon1728-54a7-minimize\n",
    "\n",
    "    gmx grompp -f nve-equib.mdp -c argon1728-54a7-minimize -p argon1728-54a7 -o argon1728-54a7-nve -maxwarn 1\n",
    "\n",
    "    gmx mdrun -s argon1728-54a7-nve -o -x -deffnm argon1728-54a7-nve-run\n",
    "\n",
    "    \n",
    "### Data Processing Steps\n",
    "\n",
    "    gmx velacc -f argon864-54a7-nve-run -s argon864-54a7-nve-run -n argon864-54a7 -o argon864-nve-vel.xvg\n",
    "    gmx msd -f argon864-54a7-nve-run -s argon864-54a7-nve-run -n argon864-54a7 -o argon864-nve-msd.xvg -b 0 -e 2000 -dt 1\n",
    "    gmx rdf -f argon864-54a7-nve-run -s argon864-54a7-nve-run -n argon864-54a7 -o argon864-nve-rdf.xvg -b 0 -e 2000 -dt 1"
   ]
  },
  {
   "cell_type": "markdown",
   "metadata": {},
   "source": []
  }
 ],
 "metadata": {
  "language_info": {
   "name": "python"
  },
  "orig_nbformat": 4
 },
 "nbformat": 4,
 "nbformat_minor": 2
}
